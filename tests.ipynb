{
    "cells": [
        {
            "cell_type": "code",
            "execution_count": 169,
            "source": [
                "import openpyxl   \r\n",
                "import pandas as pd\r\n",
                "import numpy as np\r\n",
                "from pandas import read_excel\r\n",
                "import matplotlib.pyplot as plt\r\n",
                "import scipy.optimize as scp"
            ],
            "outputs": [],
            "metadata": {}
        },
        {
            "cell_type": "code",
            "execution_count": 285,
            "source": [
                "raw_data=pd.read_excel(\"crone3.xlsx\", engine = 'openpyxl') \r\n",
                "data = pd.DataFrame(raw_data)\r\n",
                "data = data.drop([0,1]).reset_index(drop=True)\r\n",
                "data"
            ],
            "outputs": [
                {
                    "output_type": "execute_result",
                    "data": {
                        "text/plain": [
                            "        Unnamed: 0  Sample         T [s]   ch1 [V]   ch2 [V]  mean [V]  \\\n",
                            "0                2       2  4.000000e-08  0.059089 -0.019831  0.056090   \n",
                            "1                3       3  6.000000e-08  0.058488  2.806148  0.056323   \n",
                            "2                4       4  8.000000e-08  0.057286  0.069410  0.056337   \n",
                            "3                5       5  1.000000e-07  0.055784 -0.128904  0.056361   \n",
                            "4                6       6  1.200000e-07  0.054882 -0.118989  0.056291   \n",
                            "...            ...     ...           ...       ...       ...       ...   \n",
                            "131065      131067  131067  2.621340e-03  0.019830 -0.029747  0.021171   \n",
                            "131066      131068  131068  2.621360e-03  0.019830 -0.009916  0.021174   \n",
                            "131067      131069  131069  2.621380e-03  0.020631 -0.019831  0.021180   \n",
                            "131068      131070  131070  2.621400e-03  0.021232 -0.009916  0.021171   \n",
                            "131069      131071  131071  2.621420e-03  0.021432 -0.009916  0.021177   \n",
                            "\n",
                            "        inverted [V]  \n",
                            "0           0.110644  \n",
                            "1           0.111090  \n",
                            "2           0.098479  \n",
                            "3           0.102886  \n",
                            "4           0.087573  \n",
                            "...              ...  \n",
                            "131065     -0.029582  \n",
                            "131066     -0.026134  \n",
                            "131067     -0.030358  \n",
                            "131068     -0.027620  \n",
                            "131069     -0.030273  \n",
                            "\n",
                            "[131070 rows x 7 columns]"
                        ],
                        "text/html": [
                            "<div>\n",
                            "<style scoped>\n",
                            "    .dataframe tbody tr th:only-of-type {\n",
                            "        vertical-align: middle;\n",
                            "    }\n",
                            "\n",
                            "    .dataframe tbody tr th {\n",
                            "        vertical-align: top;\n",
                            "    }\n",
                            "\n",
                            "    .dataframe thead th {\n",
                            "        text-align: right;\n",
                            "    }\n",
                            "</style>\n",
                            "<table border=\"1\" class=\"dataframe\">\n",
                            "  <thead>\n",
                            "    <tr style=\"text-align: right;\">\n",
                            "      <th></th>\n",
                            "      <th>Unnamed: 0</th>\n",
                            "      <th>Sample</th>\n",
                            "      <th>T [s]</th>\n",
                            "      <th>ch1 [V]</th>\n",
                            "      <th>ch2 [V]</th>\n",
                            "      <th>mean [V]</th>\n",
                            "      <th>inverted [V]</th>\n",
                            "    </tr>\n",
                            "  </thead>\n",
                            "  <tbody>\n",
                            "    <tr>\n",
                            "      <th>0</th>\n",
                            "      <td>2</td>\n",
                            "      <td>2</td>\n",
                            "      <td>4.000000e-08</td>\n",
                            "      <td>0.059089</td>\n",
                            "      <td>-0.019831</td>\n",
                            "      <td>0.056090</td>\n",
                            "      <td>0.110644</td>\n",
                            "    </tr>\n",
                            "    <tr>\n",
                            "      <th>1</th>\n",
                            "      <td>3</td>\n",
                            "      <td>3</td>\n",
                            "      <td>6.000000e-08</td>\n",
                            "      <td>0.058488</td>\n",
                            "      <td>2.806148</td>\n",
                            "      <td>0.056323</td>\n",
                            "      <td>0.111090</td>\n",
                            "    </tr>\n",
                            "    <tr>\n",
                            "      <th>2</th>\n",
                            "      <td>4</td>\n",
                            "      <td>4</td>\n",
                            "      <td>8.000000e-08</td>\n",
                            "      <td>0.057286</td>\n",
                            "      <td>0.069410</td>\n",
                            "      <td>0.056337</td>\n",
                            "      <td>0.098479</td>\n",
                            "    </tr>\n",
                            "    <tr>\n",
                            "      <th>3</th>\n",
                            "      <td>5</td>\n",
                            "      <td>5</td>\n",
                            "      <td>1.000000e-07</td>\n",
                            "      <td>0.055784</td>\n",
                            "      <td>-0.128904</td>\n",
                            "      <td>0.056361</td>\n",
                            "      <td>0.102886</td>\n",
                            "    </tr>\n",
                            "    <tr>\n",
                            "      <th>4</th>\n",
                            "      <td>6</td>\n",
                            "      <td>6</td>\n",
                            "      <td>1.200000e-07</td>\n",
                            "      <td>0.054882</td>\n",
                            "      <td>-0.118989</td>\n",
                            "      <td>0.056291</td>\n",
                            "      <td>0.087573</td>\n",
                            "    </tr>\n",
                            "    <tr>\n",
                            "      <th>...</th>\n",
                            "      <td>...</td>\n",
                            "      <td>...</td>\n",
                            "      <td>...</td>\n",
                            "      <td>...</td>\n",
                            "      <td>...</td>\n",
                            "      <td>...</td>\n",
                            "      <td>...</td>\n",
                            "    </tr>\n",
                            "    <tr>\n",
                            "      <th>131065</th>\n",
                            "      <td>131067</td>\n",
                            "      <td>131067</td>\n",
                            "      <td>2.621340e-03</td>\n",
                            "      <td>0.019830</td>\n",
                            "      <td>-0.029747</td>\n",
                            "      <td>0.021171</td>\n",
                            "      <td>-0.029582</td>\n",
                            "    </tr>\n",
                            "    <tr>\n",
                            "      <th>131066</th>\n",
                            "      <td>131068</td>\n",
                            "      <td>131068</td>\n",
                            "      <td>2.621360e-03</td>\n",
                            "      <td>0.019830</td>\n",
                            "      <td>-0.009916</td>\n",
                            "      <td>0.021174</td>\n",
                            "      <td>-0.026134</td>\n",
                            "    </tr>\n",
                            "    <tr>\n",
                            "      <th>131067</th>\n",
                            "      <td>131069</td>\n",
                            "      <td>131069</td>\n",
                            "      <td>2.621380e-03</td>\n",
                            "      <td>0.020631</td>\n",
                            "      <td>-0.019831</td>\n",
                            "      <td>0.021180</td>\n",
                            "      <td>-0.030358</td>\n",
                            "    </tr>\n",
                            "    <tr>\n",
                            "      <th>131068</th>\n",
                            "      <td>131070</td>\n",
                            "      <td>131070</td>\n",
                            "      <td>2.621400e-03</td>\n",
                            "      <td>0.021232</td>\n",
                            "      <td>-0.009916</td>\n",
                            "      <td>0.021171</td>\n",
                            "      <td>-0.027620</td>\n",
                            "    </tr>\n",
                            "    <tr>\n",
                            "      <th>131069</th>\n",
                            "      <td>131071</td>\n",
                            "      <td>131071</td>\n",
                            "      <td>2.621420e-03</td>\n",
                            "      <td>0.021432</td>\n",
                            "      <td>-0.009916</td>\n",
                            "      <td>0.021177</td>\n",
                            "      <td>-0.030273</td>\n",
                            "    </tr>\n",
                            "  </tbody>\n",
                            "</table>\n",
                            "<p>131070 rows × 7 columns</p>\n",
                            "</div>"
                        ]
                    },
                    "metadata": {},
                    "execution_count": 285
                }
            ],
            "metadata": {}
        },
        {
            "cell_type": "code",
            "execution_count": 286,
            "source": [
                "time_column = data.columns[2]\r\n",
                "ch1_column = data.columns[3]\r\n",
                "data_column = data.columns[-1]\r\n",
                "print(time_column,ch1_column,data_column)\r\n",
                "#print(np.average(data[ch1_column])*10)\r\n",
                "\r\n",
                "%matplotlib widget\r\n",
                "plt.plot(data[time_column],data[ch1_column])\r\n",
                "plt.plot(data[time_column],data[data_column], color='r')\r\n",
                "plt.show()\r\n"
            ],
            "outputs": [
                {
                    "output_type": "stream",
                    "name": "stdout",
                    "text": [
                        "T [s] ch1 [V] inverted [V]\n"
                    ]
                },
                {
                    "output_type": "display_data",
                    "data": {
                        "text/plain": [
                            "Canvas(toolbar=Toolbar(toolitems=[('Home', 'Reset original view', 'home', 'home'), ('Back', 'Back to previous …"
                        ],
                        "application/vnd.jupyter.widget-view+json": {
                            "version_major": 2,
                            "version_minor": 0,
                            "model_id": "866ca3c002274b059fed3fe984c74372"
                        }
                    },
                    "metadata": {}
                }
            ],
            "metadata": {}
        },
        {
            "cell_type": "code",
            "execution_count": 287,
            "source": [
                "tester = []\r\n",
                "for i in range(len(data[ch1_column])):\r\n",
                "    tester.append(data[ch1_column].to_numpy()[i]-data[ch1_column].to_numpy()[i-1])\r\n",
                "\r\n",
                "thershold =  (np.max(tester)-np.average(tester))/3.5\r\n",
                "print(thershold)\r\n",
                "\r\n",
                "%matplotlib widget\r\n",
                "plt.plot(data[time_column], tester)\r\n",
                "plt.axhline(thershold, color='r')\r\n",
                "#plt.plot(data[time_column],data[data_column], color='r')"
            ],
            "outputs": [
                {
                    "output_type": "stream",
                    "name": "stdout",
                    "text": [
                        "0.010758995714285716\n"
                    ]
                },
                {
                    "output_type": "display_data",
                    "data": {
                        "text/plain": [
                            "Canvas(toolbar=Toolbar(toolitems=[('Home', 'Reset original view', 'home', 'home'), ('Back', 'Back to previous …"
                        ],
                        "application/vnd.jupyter.widget-view+json": {
                            "version_major": 2,
                            "version_minor": 0,
                            "model_id": "c9c506970e074878936ca280adeff17c"
                        }
                    },
                    "metadata": {}
                },
                {
                    "output_type": "execute_result",
                    "data": {
                        "text/plain": [
                            "<matplotlib.lines.Line2D at 0x23a6e14e5e0>"
                        ]
                    },
                    "metadata": {},
                    "execution_count": 287
                }
            ],
            "metadata": {}
        },
        {
            "cell_type": "code",
            "execution_count": 83,
            "source": [
                "def f(x,a,b):\r\n",
                "    return a*np.exp(-x/b)\r\n",
                "    "
            ],
            "outputs": [],
            "metadata": {}
        },
        {
            "cell_type": "code",
            "execution_count": 288,
            "source": [
                "points_candidates = np.argwhere(tester>thershold)\r\n",
                "points_candidates = np.append(points_candidates,[[(len(data[ch1_column])-1)]], axis=0)\r\n",
                "#points_candidates.append()\r\n",
                "\r\n",
                "i = 0\r\n",
                "points = []\r\n",
                "while i<(len(points_candidates)-1):\r\n",
                "    distance = points_candidates[i+1][0]-points_candidates[i][0]\r\n",
                "    if distance < 200:\r\n",
                "        if data[ch1_column][points_candidates[i][0]]>data[ch1_column][points_candidates[i+1][0]]:\r\n",
                "            points.append(points_candidates[i][0])\r\n",
                "        else:\r\n",
                "            points.append(points_candidates[i+1][0])\r\n",
                "        i = i + 1\r\n",
                "\r\n",
                "    else:\r\n",
                "        points.append(points_candidates[i][0])\r\n",
                "\r\n",
                "    i = i + 1\r\n",
                "\r\n",
                "points.append(len(data[ch1_column])-1)\r\n",
                "#print(points)\r\n",
                "#print(points_candidates)\r\n",
                "\r\n",
                "\r\n",
                "%matplotlib widget\r\n",
                "plt.plot(data[time_column],data[data_column])\r\n",
                "\r\n",
                "\r\n",
                "for i in range(len(points)):\r\n",
                "    plt.axvline(x= data[time_column][points[i]], color = 'r')\r\n",
                "\r\n",
                "\"\"\"\r\n",
                "\r\n",
                "for i in range(len(points_candidates)):\r\n",
                "    plt.axvline(x= data[time_column][points_candidates[i][0]], color = 'g')\r\n",
                "\r\n",
                "\"\"\"\r\n",
                "\r\n",
                "plt.show()\r\n",
                "\r\n",
                "\r\n"
            ],
            "outputs": [
                {
                    "output_type": "display_data",
                    "data": {
                        "text/plain": [
                            "Canvas(toolbar=Toolbar(toolitems=[('Home', 'Reset original view', 'home', 'home'), ('Back', 'Back to previous …"
                        ],
                        "application/vnd.jupyter.widget-view+json": {
                            "version_major": 2,
                            "version_minor": 0,
                            "model_id": "74897a9b0ce84d3e97335a2695ec4085"
                        }
                    },
                    "metadata": {}
                }
            ],
            "metadata": {}
        },
        {
            "cell_type": "code",
            "execution_count": 297,
            "source": [
                "\r\n",
                "thaus = []\r\n",
                "\r\n",
                "#for i in [10]:\r\n",
                "\r\n",
                "for i in range(len(points)-1):\r\n",
                "\r\n",
                "    indexes = np.arange(points[i],points[i+1])[:-20]\r\n",
                "    val_between_imp = data[data_column].to_numpy()[indexes]\r\n",
                "    peak = np.argmax(val_between_imp)\r\n",
                "\r\n",
                "    times_fit = np.array(data[time_column ].to_numpy()[indexes][peak:] - data[time_column ].to_numpy()[indexes][peak:][0],dtype=np.float32)\r\n",
                "    val_fit = np.array((data[data_column].to_numpy()[indexes][peak:]-np.average(data[data_column].to_numpy()[indexes][peak:][-20:])),dtype=np.float32)\r\n",
                "    a_init = val_fit[0]\r\n",
                "    b_init = 0.000000146\r\n",
                "    #print(-1/(np.log(val_fit[80]/a_init)/times_fit[180]))\r\n",
                "\r\n",
                "    params, pcov = scp.curve_fit(f, times_fit, val_fit, [a_init,b_init])\r\n",
                "    err = np.sqrt(np.diag(pcov))\r\n",
                "\r\n",
                "    thaus.append(params[1])\r\n",
                "    #print(params[1])\r\n",
                "    \r\n",
                "    #\"\"\"\r\n",
                "    \"\"\"\r\n",
                "    %matplotlib widget\r\n",
                "    plt.plot(times_fit,val_fit)\r\n",
                "    plt.plot(times_fit, f(times_fit, params[0], params[1]), color = 'r')\r\n",
                "    \"\"\"\r\n",
                "    #\"\"\"\r\n",
                "    \r\n",
                "print(thaus)\r\n",
                "print(np.average(thaus),np.std(thaus))\r\n",
                "\r\n",
                "\r\n",
                "\r\n",
                "\r\n"
            ],
            "outputs": [
                {
                    "output_type": "stream",
                    "name": "stdout",
                    "text": [
                        "[1.937216015982185e-06, 2.0432586067587988e-06, 2.068432974889831e-06, 1.928714584596575e-06, 1.977639654146446e-06, 2.0028054021474862e-06, 1.9725451359596033e-06, 2.0630638383874398e-06, 1.9622704801764614e-06, 2.06824791820316e-06, 2.035057714145749e-06, 2.061988838132744e-06, 1.987886179178823e-06, 2.0032173329051787e-06, 2.0516848697393927e-06, 2.0427067937717308e-06, 1.981154311737329e-06, 1.9935364474678356e-06, 1.960198422037959e-06, 2.022688200575031e-06, 2.004731404596017e-06, 2.053741567865447e-06, 1.93550706819286e-06, 2.0744240070626113e-06, 1.8740014655299086e-06, 1.974020563806978e-06, 2.080466463201298e-06, 1.9588366815586557e-06]\n",
                        "2.0042872479554833e-06 5.2075352829104503e-08\n"
                    ]
                }
            ],
            "metadata": {}
        },
        {
            "cell_type": "markdown",
            "source": [
                "nitrogen:\r\n",
                "2.3585670231162744e-06 6.909846269625634e-08\r\n",
                "air1:\r\n",
                "2.324143924882319e-06 7.554601986339205e-08\r\n",
                "air2:\r\n",
                "2.1719835111826933e-06 2.170831117867877e-07\r\n",
                "crone1:\r\n",
                "1.238491436448836e-06 8.084166046204459e-08\r\n",
                "crone2:\r\n",
                "5.165562411321616e-07 2.637642935183529e-08\r\n",
                "crone3:\r\n",
                "2.0042875401838618e-06 5.207566384658046e-08\r\n",
                "spark1:\r\n",
                "2.2673826825520517e-07 9.350318289748961e-08\r\n",
                "spark2:\r\n",
                "1.455335452280397e-07 2.6910387115750422e-08\r\n",
                "\r\n",
                "\r\n"
            ],
            "metadata": {}
        }
    ],
    "metadata": {
        "orig_nbformat": 4,
        "language_info": {
            "name": "python",
            "version": "3.9.6",
            "mimetype": "text/x-python",
            "codemirror_mode": {
                "name": "ipython",
                "version": 3
            },
            "pygments_lexer": "ipython3",
            "nbconvert_exporter": "python",
            "file_extension": ".py"
        },
        "kernelspec": {
            "name": "python3",
            "display_name": "Python 3.9.6 64-bit ('test': virtualenvwrapper)"
        },
        "interpreter": {
            "hash": "0688fa381e32863bb3d9b8356cad027464cc414515025b5359ecfade3f6b0d4f"
        }
    },
    "nbformat": 4,
    "nbformat_minor": 2
}