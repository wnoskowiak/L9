{
    "cells": [
        {
            "cell_type": "code",
            "execution_count": 10,
            "source": [
                "import openpyxl   \r\n",
                "import pandas as pd\r\n",
                "import numpy as np\r\n",
                "from pandas import read_excel\r\n",
                "import matplotlib.pyplot as plt\r\n",
                "import scipy.optimize as scp"
            ],
            "outputs": [],
            "metadata": {}
        },
        {
            "cell_type": "code",
            "execution_count": 24,
            "source": [
                "number = len(test_samples)-2\r\n",
                "test_samples = ['nitrogen','air1','air2','crone1','crone2','crone3','spark1','spark2']\r\n",
                "raw_data=pd.read_excel(str(test_samples[number]+\".xlsx\"), engine = 'openpyxl') \r\n",
                "data = pd.DataFrame(raw_data)\r\n",
                "data = data.drop([0,1]).reset_index(drop=True)\r\n",
                "data"
            ],
            "outputs": [
                {
                    "output_type": "execute_result",
                    "data": {
                        "text/plain": [
                            "        Unnamed: 0  Sample     T [s]   ch1 [V]   ch2 [V]  mean [V]  \\\n",
                            "0                2    -329 -0.000007  0.000801  0.000297  0.000279   \n",
                            "1                3    -328 -0.000007  0.000801  0.000297  0.000259   \n",
                            "2                4    -327 -0.000007  0.000701  0.000496  0.000294   \n",
                            "3                5    -326 -0.000007  0.000701  0.000397  0.000260   \n",
                            "4                6    -325 -0.000006  0.001202  0.000198  0.000270   \n",
                            "...            ...     ...       ...       ...       ...       ...   \n",
                            "131065      131067  130736  0.002615  0.000801  0.000198  0.000257   \n",
                            "131066      131068  130737  0.002615  0.000901  0.000198  0.000287   \n",
                            "131067      131069  130738  0.002615  0.001102  0.000000  0.000276   \n",
                            "131068      131070  130739  0.002615  0.000901  0.000496  0.000272   \n",
                            "131069      131071  130740  0.002615  0.000801  0.000198  0.000272   \n",
                            "\n",
                            "        inverted [V]  \n",
                            "0          -0.000279  \n",
                            "1          -0.000259  \n",
                            "2          -0.000294  \n",
                            "3          -0.000260  \n",
                            "4          -0.000270  \n",
                            "...              ...  \n",
                            "131065     -0.000257  \n",
                            "131066     -0.000287  \n",
                            "131067     -0.000276  \n",
                            "131068     -0.000272  \n",
                            "131069     -0.000272  \n",
                            "\n",
                            "[131070 rows x 7 columns]"
                        ],
                        "text/html": [
                            "<div>\n",
                            "<style scoped>\n",
                            "    .dataframe tbody tr th:only-of-type {\n",
                            "        vertical-align: middle;\n",
                            "    }\n",
                            "\n",
                            "    .dataframe tbody tr th {\n",
                            "        vertical-align: top;\n",
                            "    }\n",
                            "\n",
                            "    .dataframe thead th {\n",
                            "        text-align: right;\n",
                            "    }\n",
                            "</style>\n",
                            "<table border=\"1\" class=\"dataframe\">\n",
                            "  <thead>\n",
                            "    <tr style=\"text-align: right;\">\n",
                            "      <th></th>\n",
                            "      <th>Unnamed: 0</th>\n",
                            "      <th>Sample</th>\n",
                            "      <th>T [s]</th>\n",
                            "      <th>ch1 [V]</th>\n",
                            "      <th>ch2 [V]</th>\n",
                            "      <th>mean [V]</th>\n",
                            "      <th>inverted [V]</th>\n",
                            "    </tr>\n",
                            "  </thead>\n",
                            "  <tbody>\n",
                            "    <tr>\n",
                            "      <th>0</th>\n",
                            "      <td>2</td>\n",
                            "      <td>-329</td>\n",
                            "      <td>-0.000007</td>\n",
                            "      <td>0.000801</td>\n",
                            "      <td>0.000297</td>\n",
                            "      <td>0.000279</td>\n",
                            "      <td>-0.000279</td>\n",
                            "    </tr>\n",
                            "    <tr>\n",
                            "      <th>1</th>\n",
                            "      <td>3</td>\n",
                            "      <td>-328</td>\n",
                            "      <td>-0.000007</td>\n",
                            "      <td>0.000801</td>\n",
                            "      <td>0.000297</td>\n",
                            "      <td>0.000259</td>\n",
                            "      <td>-0.000259</td>\n",
                            "    </tr>\n",
                            "    <tr>\n",
                            "      <th>2</th>\n",
                            "      <td>4</td>\n",
                            "      <td>-327</td>\n",
                            "      <td>-0.000007</td>\n",
                            "      <td>0.000701</td>\n",
                            "      <td>0.000496</td>\n",
                            "      <td>0.000294</td>\n",
                            "      <td>-0.000294</td>\n",
                            "    </tr>\n",
                            "    <tr>\n",
                            "      <th>3</th>\n",
                            "      <td>5</td>\n",
                            "      <td>-326</td>\n",
                            "      <td>-0.000007</td>\n",
                            "      <td>0.000701</td>\n",
                            "      <td>0.000397</td>\n",
                            "      <td>0.000260</td>\n",
                            "      <td>-0.000260</td>\n",
                            "    </tr>\n",
                            "    <tr>\n",
                            "      <th>4</th>\n",
                            "      <td>6</td>\n",
                            "      <td>-325</td>\n",
                            "      <td>-0.000006</td>\n",
                            "      <td>0.001202</td>\n",
                            "      <td>0.000198</td>\n",
                            "      <td>0.000270</td>\n",
                            "      <td>-0.000270</td>\n",
                            "    </tr>\n",
                            "    <tr>\n",
                            "      <th>...</th>\n",
                            "      <td>...</td>\n",
                            "      <td>...</td>\n",
                            "      <td>...</td>\n",
                            "      <td>...</td>\n",
                            "      <td>...</td>\n",
                            "      <td>...</td>\n",
                            "      <td>...</td>\n",
                            "    </tr>\n",
                            "    <tr>\n",
                            "      <th>131065</th>\n",
                            "      <td>131067</td>\n",
                            "      <td>130736</td>\n",
                            "      <td>0.002615</td>\n",
                            "      <td>0.000801</td>\n",
                            "      <td>0.000198</td>\n",
                            "      <td>0.000257</td>\n",
                            "      <td>-0.000257</td>\n",
                            "    </tr>\n",
                            "    <tr>\n",
                            "      <th>131066</th>\n",
                            "      <td>131068</td>\n",
                            "      <td>130737</td>\n",
                            "      <td>0.002615</td>\n",
                            "      <td>0.000901</td>\n",
                            "      <td>0.000198</td>\n",
                            "      <td>0.000287</td>\n",
                            "      <td>-0.000287</td>\n",
                            "    </tr>\n",
                            "    <tr>\n",
                            "      <th>131067</th>\n",
                            "      <td>131069</td>\n",
                            "      <td>130738</td>\n",
                            "      <td>0.002615</td>\n",
                            "      <td>0.001102</td>\n",
                            "      <td>0.000000</td>\n",
                            "      <td>0.000276</td>\n",
                            "      <td>-0.000276</td>\n",
                            "    </tr>\n",
                            "    <tr>\n",
                            "      <th>131068</th>\n",
                            "      <td>131070</td>\n",
                            "      <td>130739</td>\n",
                            "      <td>0.002615</td>\n",
                            "      <td>0.000901</td>\n",
                            "      <td>0.000496</td>\n",
                            "      <td>0.000272</td>\n",
                            "      <td>-0.000272</td>\n",
                            "    </tr>\n",
                            "    <tr>\n",
                            "      <th>131069</th>\n",
                            "      <td>131071</td>\n",
                            "      <td>130740</td>\n",
                            "      <td>0.002615</td>\n",
                            "      <td>0.000801</td>\n",
                            "      <td>0.000198</td>\n",
                            "      <td>0.000272</td>\n",
                            "      <td>-0.000272</td>\n",
                            "    </tr>\n",
                            "  </tbody>\n",
                            "</table>\n",
                            "<p>131070 rows × 7 columns</p>\n",
                            "</div>"
                        ]
                    },
                    "metadata": {},
                    "execution_count": 24
                }
            ],
            "metadata": {}
        },
        {
            "cell_type": "code",
            "execution_count": 25,
            "source": [
                "time_column = data.columns[2]\r\n",
                "ch1_column = data.columns[3]\r\n",
                "data_column = data.columns[-1]\r\n",
                "print(time_column,ch1_column,data_column)\r\n",
                "#print(np.average(data[ch1_column])*10)\r\n",
                "\r\n",
                "%matplotlib widget\r\n",
                "plt.plot(data[time_column],data[ch1_column])\r\n",
                "#plt.set_size_inches(10, 4)\r\n",
                "plt.xlabel(\"czas [s]\")\r\n",
                "plt.title(\"ch1/ch2 (niebieski/czerwony)\")\r\n",
                "plt.plot(data[time_column],data[data_column], color='r')\r\n",
                "plt.show()\r\n"
            ],
            "outputs": [
                {
                    "output_type": "stream",
                    "name": "stdout",
                    "text": [
                        "T [s] ch1 [V] inverted [V]\n"
                    ]
                },
                {
                    "output_type": "display_data",
                    "data": {
                        "text/plain": [
                            "Canvas(toolbar=Toolbar(toolitems=[('Home', 'Reset original view', 'home', 'home'), ('Back', 'Back to previous …"
                        ],
                        "application/vnd.jupyter.widget-view+json": {
                            "version_major": 2,
                            "version_minor": 0,
                            "model_id": "347e4c81ec314a399ce943ac90e4eaf1"
                        }
                    },
                    "metadata": {}
                }
            ],
            "metadata": {}
        },
        {
            "cell_type": "code",
            "execution_count": 26,
            "source": [
                "tester = []\r\n",
                "for i in range(len(data[ch1_column])):\r\n",
                "    tester.append(data[ch1_column].to_numpy()[i]-data[ch1_column].to_numpy()[i-1])\r\n",
                "\r\n",
                "thershold =  (np.max(tester)-np.average(tester))/3.5\r\n",
                "print(thershold)\r\n",
                "\r\n",
                "%matplotlib widget\r\n",
                "plt.plot(data[time_column], tester)\r\n",
                "plt.axhline(thershold, color='r')\r\n",
                "plt.xlabel(\"czas [s]\")\r\n",
                "plt.title(\"przetworzony sygnał ch1\")\r\n",
                "#plt.plot(data[time_column],data[data_column], color='r')"
            ],
            "outputs": [
                {
                    "output_type": "stream",
                    "name": "stdout",
                    "text": [
                        "0.004835825285714286\n"
                    ]
                },
                {
                    "output_type": "display_data",
                    "data": {
                        "text/plain": [
                            "Canvas(toolbar=Toolbar(toolitems=[('Home', 'Reset original view', 'home', 'home'), ('Back', 'Back to previous …"
                        ],
                        "application/vnd.jupyter.widget-view+json": {
                            "version_major": 2,
                            "version_minor": 0,
                            "model_id": "a52cfa5eb7a64632ae267a4aa80956c2"
                        }
                    },
                    "metadata": {}
                },
                {
                    "output_type": "execute_result",
                    "data": {
                        "text/plain": [
                            "Text(0.5, 1.0, 'przetworzony sygnał ch1')"
                        ]
                    },
                    "metadata": {},
                    "execution_count": 26
                }
            ],
            "metadata": {}
        },
        {
            "cell_type": "code",
            "execution_count": 14,
            "source": [
                "def f(x,a,b,c):\r\n",
                "    return ((a*np.exp(-x/b))-c)\r\n",
                "    "
            ],
            "outputs": [],
            "metadata": {}
        },
        {
            "cell_type": "code",
            "execution_count": 27,
            "source": [
                "points_candidates = np.argwhere(tester>thershold)\r\n",
                "points_candidates = np.append(points_candidates,[[(len(data[ch1_column])-1)]], axis=0)\r\n",
                "#points_candidates.append()\r\n",
                "\r\n",
                "i = 0\r\n",
                "points = []\r\n",
                "while i<(len(points_candidates)-1):\r\n",
                "    distance = points_candidates[i+1][0]-points_candidates[i][0]\r\n",
                "    if distance < 200:\r\n",
                "        if data[ch1_column][points_candidates[i][0]]>data[ch1_column][points_candidates[i+1][0]]:\r\n",
                "            points.append(points_candidates[i][0])\r\n",
                "        else:\r\n",
                "            points.append(points_candidates[i+1][0])\r\n",
                "        i = i + 1\r\n",
                "\r\n",
                "    else:\r\n",
                "        points.append(points_candidates[i][0])\r\n",
                "\r\n",
                "    i = i + 1\r\n",
                "\r\n",
                "points.append(len(data[ch1_column])-1)\r\n",
                "#print(points)\r\n",
                "#print(points_candidates)\r\n",
                "\r\n",
                "\r\n",
                "%matplotlib widget\r\n",
                "plt.plot(data[time_column],data[data_column])\r\n",
                "\r\n",
                "\r\n",
                "for i in range(len(points)):\r\n",
                "    plt.axvline(x= data[time_column][points[i]], color = 'r')\r\n",
                "\r\n",
                "\"\"\"\r\n",
                "\r\n",
                "for i in range(len(points_candidates)):\r\n",
                "    plt.axvline(x= data[time_column][points_candidates[i][0]], color = 'g')\r\n",
                "\r\n",
                "\"\"\"\r\n",
                "\r\n",
                "plt.show()\r\n",
                "\r\n",
                "\r\n"
            ],
            "outputs": [
                {
                    "output_type": "display_data",
                    "data": {
                        "text/plain": [
                            "Canvas(toolbar=Toolbar(toolitems=[('Home', 'Reset original view', 'home', 'home'), ('Back', 'Back to previous …"
                        ],
                        "application/vnd.jupyter.widget-view+json": {
                            "version_major": 2,
                            "version_minor": 0,
                            "model_id": "52d9c4b0ee8b4432880ad4a595facee7"
                        }
                    },
                    "metadata": {}
                }
            ],
            "metadata": {}
        },
        {
            "cell_type": "code",
            "execution_count": 29,
            "source": [
                "int_indexes = np.arange(points[0],points[1])\r\n",
                "temp_data = data[data_column].to_numpy()\r\n",
                "average = temp_data[int_indexes]\r\n",
                "res = []\r\n",
                "\r\n",
                "for i in range(len(int_indexes)):\r\n",
                "    temp = []\r\n",
                "    for k in range(len(points)):\r\n",
                "        try:\r\n",
                "            temp.append(temp_data[points[k]+i])\r\n",
                "        except:\r\n",
                "            pass\r\n",
                "    res.append(np.average(temp))\r\n",
                "\r\n",
                "\r\n",
                "\"\"\"\r\n",
                "for i in range(1,len(points)-1):\r\n",
                "    indexes = np.arange(points[i],points[i+1])\r\n",
                "    for k in range(min(len(average),len(indexes))):\r\n",
                "        average[k] = average[k] + data[data_column].to_numpy()[indexes[k]]\r\n",
                "\"\"\"\r\n",
                "%matplotlib widget\r\n",
                "plt.plot(data[time_column].to_numpy()[int_indexes], res)\r\n",
                "plt.show()\r\n"
            ],
            "outputs": [
                {
                    "output_type": "display_data",
                    "data": {
                        "text/plain": [
                            "Canvas(toolbar=Toolbar(toolitems=[('Home', 'Reset original view', 'home', 'home'), ('Back', 'Back to previous …"
                        ],
                        "application/vnd.jupyter.widget-view+json": {
                            "version_major": 2,
                            "version_minor": 0,
                            "model_id": "d72c8d9262c441f68954a35e210a6efa"
                        }
                    },
                    "metadata": {}
                }
            ],
            "metadata": {}
        },
        {
            "cell_type": "code",
            "execution_count": 30,
            "source": [
                "peak = np.argmax(res)\r\n",
                "\r\n",
                "t_0 = data[time_column ].to_numpy()[int_indexes][peak:][0]\r\n",
                "times_fit = np.array(data[time_column ].to_numpy()[int_indexes][peak:] - t_0, dtype=np.float32)\r\n",
                "#times_fit = data[time_column ].to_numpy()[int_indexes][peak:]\r\n",
                "val_fit = res[peak:]\r\n",
                "\r\n",
                "a_init = val_fit[0]\r\n",
                "b_init = 0.00000014\r\n",
                "c_init = -0.0002\r\n",
                "\r\n",
                "params, pcov = scp.curve_fit(f, times_fit, val_fit, [a_init,b_init,c_init])\r\n",
                "err = np.sqrt(np.diag(pcov))\r\n",
                "print(params, err)\r\n",
                "\r\n",
                "%matplotlib widget\r\n",
                "plt.plot(data[time_column].to_numpy()[int_indexes], res)\r\n",
                "plt.plot((times_fit+t_0), f(times_fit, *params), color = 'r')\r\n",
                "plt.xlabel(\"czas [s]\")\r\n",
                "plt.ylabel(\"napięcie [V]\")\r\n",
                "plt.title(test_samples[number])\r\n",
                "plt.show()\r\n",
                "\r\n"
            ],
            "outputs": [
                {
                    "output_type": "stream",
                    "name": "stdout",
                    "text": [
                        "[3.80484858e-04 4.57535002e-07 2.65097590e-04] [1.77645652e-06 3.10264334e-09 6.53005124e-08]\n"
                    ]
                },
                {
                    "output_type": "display_data",
                    "data": {
                        "text/plain": [
                            "Canvas(toolbar=Toolbar(toolitems=[('Home', 'Reset original view', 'home', 'home'), ('Back', 'Back to previous …"
                        ],
                        "application/vnd.jupyter.widget-view+json": {
                            "version_major": 2,
                            "version_minor": 0,
                            "model_id": "7f3e69d87b4a49f1be8650a6c0f84ef4"
                        }
                    },
                    "metadata": {}
                }
            ],
            "metadata": {}
        },
        {
            "cell_type": "markdown",
            "source": [
                "nitrogen:\r\n",
                "2.3585663246765498e-06 6.909764575890499e-08\r\n",
                "air1:\r\n",
                "[1.17512878e-03      2.15269798e-04] [1.04873271e-06 3.05309210e-09 8.81212020e-08]\r\n",
                "air2:\r\n",
                "2.3452365742603783e-06 5.3840971863432014e-08\r\n",
                "crone1:\r\n",
                "1.2384908420188277e-06 8.084168262122479e-08\r\n",
                "crone2:\r\n",
                "5.165562047605518e-07 2.63762452029122e-08\r\n",
                "crone3:\r\n",
                "2.0042874543094457e-06 5.207545170862822e-08\r\n",
                "spark1:\r\n",
                "2.2626358380928828e-07 9.484269041802186e-08\r\n",
                "spark2:\r\n",
                "1.4553462809515665e-07 2.6910637686926914e-08\r\n",
                "\r\n",
                "\r\n"
            ],
            "metadata": {}
        },
        {
            "cell_type": "markdown",
            "source": [],
            "metadata": {}
        }
    ],
    "metadata": {
        "orig_nbformat": 4,
        "language_info": {
            "name": "python",
            "version": "3.9.6",
            "mimetype": "text/x-python",
            "codemirror_mode": {
                "name": "ipython",
                "version": 3
            },
            "pygments_lexer": "ipython3",
            "nbconvert_exporter": "python",
            "file_extension": ".py"
        },
        "kernelspec": {
            "name": "python3",
            "display_name": "Python 3.9.6 64-bit ('test': virtualenv)"
        },
        "interpreter": {
            "hash": "0688fa381e32863bb3d9b8356cad027464cc414515025b5359ecfade3f6b0d4f"
        }
    },
    "nbformat": 4,
    "nbformat_minor": 2
}