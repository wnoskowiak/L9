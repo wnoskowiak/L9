{
    "cells": [
        {
            "cell_type": "code",
            "execution_count": 2,
            "source": [
                "import openpyxl   \r\n",
                "import pandas as pd\r\n",
                "from pandas import read_excel\r\n",
                "import matplotlib.pyplot as plt"
            ],
            "outputs": [],
            "metadata": {}
        },
        {
            "cell_type": "code",
            "execution_count": 14,
            "source": [
                "raw_data=pd.read_excel(\"nitrogen.xlsx\", engine = 'openpyxl') \r\n",
                "data = pd.DataFrame(raw_data)\r\n",
                "data"
            ],
            "outputs": [
                {
                    "output_type": "execute_result",
                    "data": {
                        "text/plain": [
                            "        sample No      time       ch1       ch2      mean  inverted\n",
                            "0             NaN       [s]       [V]       [V]       [V]       [V]\n",
                            "1             NaN       NaN       NaN       NaN       NaN       NaN\n",
                            "2          -331.0 -0.000007  0.000901  0.000099  0.000256 -0.000256\n",
                            "3          -330.0 -0.000007  0.000801  0.000198  0.000254 -0.000254\n",
                            "4          -329.0 -0.000007  0.000901  0.000595  0.000229 -0.000229\n",
                            "...           ...       ...       ...       ...       ...       ...\n",
                            "131069   130736.0  0.002615  0.000801  0.000595  0.000209 -0.000209\n",
                            "131070   130737.0  0.002615  0.000901  0.000595  0.000236 -0.000236\n",
                            "131071   130738.0  0.002615  0.000701  0.000297  0.000199 -0.000199\n",
                            "131072   130739.0  0.002615  0.000901  0.000198  0.000242 -0.000242\n",
                            "131073   130740.0  0.002615  0.000901  0.000297  0.000244 -0.000244\n",
                            "\n",
                            "[131074 rows x 6 columns]"
                        ],
                        "text/html": [
                            "<div>\n",
                            "<style scoped>\n",
                            "    .dataframe tbody tr th:only-of-type {\n",
                            "        vertical-align: middle;\n",
                            "    }\n",
                            "\n",
                            "    .dataframe tbody tr th {\n",
                            "        vertical-align: top;\n",
                            "    }\n",
                            "\n",
                            "    .dataframe thead th {\n",
                            "        text-align: right;\n",
                            "    }\n",
                            "</style>\n",
                            "<table border=\"1\" class=\"dataframe\">\n",
                            "  <thead>\n",
                            "    <tr style=\"text-align: right;\">\n",
                            "      <th></th>\n",
                            "      <th>sample No</th>\n",
                            "      <th>time</th>\n",
                            "      <th>ch1</th>\n",
                            "      <th>ch2</th>\n",
                            "      <th>mean</th>\n",
                            "      <th>inverted</th>\n",
                            "    </tr>\n",
                            "  </thead>\n",
                            "  <tbody>\n",
                            "    <tr>\n",
                            "      <th>0</th>\n",
                            "      <td>NaN</td>\n",
                            "      <td>[s]</td>\n",
                            "      <td>[V]</td>\n",
                            "      <td>[V]</td>\n",
                            "      <td>[V]</td>\n",
                            "      <td>[V]</td>\n",
                            "    </tr>\n",
                            "    <tr>\n",
                            "      <th>1</th>\n",
                            "      <td>NaN</td>\n",
                            "      <td>NaN</td>\n",
                            "      <td>NaN</td>\n",
                            "      <td>NaN</td>\n",
                            "      <td>NaN</td>\n",
                            "      <td>NaN</td>\n",
                            "    </tr>\n",
                            "    <tr>\n",
                            "      <th>2</th>\n",
                            "      <td>-331.0</td>\n",
                            "      <td>-0.000007</td>\n",
                            "      <td>0.000901</td>\n",
                            "      <td>0.000099</td>\n",
                            "      <td>0.000256</td>\n",
                            "      <td>-0.000256</td>\n",
                            "    </tr>\n",
                            "    <tr>\n",
                            "      <th>3</th>\n",
                            "      <td>-330.0</td>\n",
                            "      <td>-0.000007</td>\n",
                            "      <td>0.000801</td>\n",
                            "      <td>0.000198</td>\n",
                            "      <td>0.000254</td>\n",
                            "      <td>-0.000254</td>\n",
                            "    </tr>\n",
                            "    <tr>\n",
                            "      <th>4</th>\n",
                            "      <td>-329.0</td>\n",
                            "      <td>-0.000007</td>\n",
                            "      <td>0.000901</td>\n",
                            "      <td>0.000595</td>\n",
                            "      <td>0.000229</td>\n",
                            "      <td>-0.000229</td>\n",
                            "    </tr>\n",
                            "    <tr>\n",
                            "      <th>...</th>\n",
                            "      <td>...</td>\n",
                            "      <td>...</td>\n",
                            "      <td>...</td>\n",
                            "      <td>...</td>\n",
                            "      <td>...</td>\n",
                            "      <td>...</td>\n",
                            "    </tr>\n",
                            "    <tr>\n",
                            "      <th>131069</th>\n",
                            "      <td>130736.0</td>\n",
                            "      <td>0.002615</td>\n",
                            "      <td>0.000801</td>\n",
                            "      <td>0.000595</td>\n",
                            "      <td>0.000209</td>\n",
                            "      <td>-0.000209</td>\n",
                            "    </tr>\n",
                            "    <tr>\n",
                            "      <th>131070</th>\n",
                            "      <td>130737.0</td>\n",
                            "      <td>0.002615</td>\n",
                            "      <td>0.000901</td>\n",
                            "      <td>0.000595</td>\n",
                            "      <td>0.000236</td>\n",
                            "      <td>-0.000236</td>\n",
                            "    </tr>\n",
                            "    <tr>\n",
                            "      <th>131071</th>\n",
                            "      <td>130738.0</td>\n",
                            "      <td>0.002615</td>\n",
                            "      <td>0.000701</td>\n",
                            "      <td>0.000297</td>\n",
                            "      <td>0.000199</td>\n",
                            "      <td>-0.000199</td>\n",
                            "    </tr>\n",
                            "    <tr>\n",
                            "      <th>131072</th>\n",
                            "      <td>130739.0</td>\n",
                            "      <td>0.002615</td>\n",
                            "      <td>0.000901</td>\n",
                            "      <td>0.000198</td>\n",
                            "      <td>0.000242</td>\n",
                            "      <td>-0.000242</td>\n",
                            "    </tr>\n",
                            "    <tr>\n",
                            "      <th>131073</th>\n",
                            "      <td>130740.0</td>\n",
                            "      <td>0.002615</td>\n",
                            "      <td>0.000901</td>\n",
                            "      <td>0.000297</td>\n",
                            "      <td>0.000244</td>\n",
                            "      <td>-0.000244</td>\n",
                            "    </tr>\n",
                            "  </tbody>\n",
                            "</table>\n",
                            "<p>131074 rows × 6 columns</p>\n",
                            "</div>"
                        ]
                    },
                    "metadata": {},
                    "execution_count": 14
                }
            ],
            "metadata": {}
        },
        {
            "cell_type": "code",
            "execution_count": 38,
            "source": [
                "plt.plot(data['time'].to_numpy()[2:],data['ch1'].to_numpy()[2:])\r\n",
                "plt.show()\r\n"
            ],
            "outputs": [
                {
                    "output_type": "display_data",
                    "data": {
                        "text/plain": [
                            "<Figure size 432x288 with 1 Axes>"
                        ],
                        "image/png": "[encoded data removed]"
                    },
                    "metadata": {
                        "needs_background": "light"
                    }
                }
            ],
            "metadata": {}
        },
        {
            "cell_type": "code",
            "execution_count": 32,
            "source": [
                "import scipy.signal as scp\r\n",
                "import numpy as np"
            ],
            "outputs": [],
            "metadata": {}
        },
        {
            "cell_type": "code",
            "execution_count": 35,
            "source": [
                "scp.argrelextrema(data['ch1'].to_numpy()[2:], np.greater)"
            ],
            "outputs": [
                {
                    "output_type": "execute_result",
                    "data": {
                        "text/plain": [
                            "(array([     2,      4,      7, ..., 131064, 131066, 131068], dtype=int64),)"
                        ]
                    },
                    "metadata": {},
                    "execution_count": 35
                }
            ],
            "metadata": {}
        },
        {
            "cell_type": "code",
            "execution_count": null,
            "source": [],
            "outputs": [],
            "metadata": {}
        }
    ],
    "metadata": {
        "orig_nbformat": 4,
        "language_info": {
            "name": "python",
            "version": "3.9.6",
            "mimetype": "text/x-python",
            "codemirror_mode": {
                "name": "ipython",
                "version": 3
            },
            "pygments_lexer": "ipython3",
            "nbconvert_exporter": "python",
            "file_extension": ".py"
        },
        "kernelspec": {
            "name": "python3",
            "display_name": "Python 3.9.6 64-bit ('test': virtualenvwrapper)"
        },
        "interpreter": {
            "hash": "0688fa381e32863bb3d9b8356cad027464cc414515025b5359ecfade3f6b0d4f"
        }
    },
    "nbformat": 4,
    "nbformat_minor": 2
}