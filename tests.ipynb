{
    "cells": [
        {
            "cell_type": "code",
            "execution_count": 2,
            "source": [
                "import openpyxl   \r\n",
                "import pandas as pd\r\n",
                "import numpy as np\r\n",
                "from pandas import read_excel\r\n",
                "import matplotlib.pyplot as plt\r\n",
                "import scipy.optimize as scp"
            ],
            "outputs": [],
            "metadata": {}
        },
        {
            "cell_type": "code",
            "execution_count": 51,
            "source": [
                "raw_data=pd.read_excel(\"spark2.xlsx\", engine = 'openpyxl') \r\n",
                "data = pd.DataFrame(raw_data)\r\n",
                "data = data.drop([0,1]).reset_index(drop=True)\r\n",
                "data"
            ],
            "outputs": [
                {
                    "output_type": "execute_result",
                    "data": {
                        "text/plain": [
                            "        Unnamed: 0  Sample     T [s]   ch1 [V]   ch2 [V]  mean [V]  \\\n",
                            "0                2    -163 -0.000003  0.022033  0.000000  0.000285   \n",
                            "1                3    -162 -0.000003  0.021032  0.000595  0.000284   \n",
                            "2                4    -161 -0.000003  0.020030  0.000496  0.000257   \n",
                            "3                5    -160 -0.000003  0.020330  0.000595  0.000281   \n",
                            "4                6    -159 -0.000003  0.021632  0.000496  0.000270   \n",
                            "...            ...     ...       ...       ...       ...       ...   \n",
                            "131065      131067  130902  0.002618  0.020230  0.000694  0.000268   \n",
                            "131066      131068  130903  0.002618  0.020931  0.000496  0.000254   \n",
                            "131067      131069  130904  0.002618  0.021332  0.000297  0.000260   \n",
                            "131068      131070  130905  0.002618  0.021833  0.000595  0.000264   \n",
                            "131069      131071  130906  0.002618  0.022033  0.000397  0.000244   \n",
                            "\n",
                            "        inverted [V]  \n",
                            "0          -0.000285  \n",
                            "1          -0.000284  \n",
                            "2          -0.000257  \n",
                            "3          -0.000281  \n",
                            "4          -0.000270  \n",
                            "...              ...  \n",
                            "131065     -0.000268  \n",
                            "131066     -0.000254  \n",
                            "131067     -0.000260  \n",
                            "131068     -0.000264  \n",
                            "131069     -0.000244  \n",
                            "\n",
                            "[131070 rows x 7 columns]"
                        ],
                        "text/html": [
                            "<div>\n",
                            "<style scoped>\n",
                            "    .dataframe tbody tr th:only-of-type {\n",
                            "        vertical-align: middle;\n",
                            "    }\n",
                            "\n",
                            "    .dataframe tbody tr th {\n",
                            "        vertical-align: top;\n",
                            "    }\n",
                            "\n",
                            "    .dataframe thead th {\n",
                            "        text-align: right;\n",
                            "    }\n",
                            "</style>\n",
                            "<table border=\"1\" class=\"dataframe\">\n",
                            "  <thead>\n",
                            "    <tr style=\"text-align: right;\">\n",
                            "      <th></th>\n",
                            "      <th>Unnamed: 0</th>\n",
                            "      <th>Sample</th>\n",
                            "      <th>T [s]</th>\n",
                            "      <th>ch1 [V]</th>\n",
                            "      <th>ch2 [V]</th>\n",
                            "      <th>mean [V]</th>\n",
                            "      <th>inverted [V]</th>\n",
                            "    </tr>\n",
                            "  </thead>\n",
                            "  <tbody>\n",
                            "    <tr>\n",
                            "      <th>0</th>\n",
                            "      <td>2</td>\n",
                            "      <td>-163</td>\n",
                            "      <td>-0.000003</td>\n",
                            "      <td>0.022033</td>\n",
                            "      <td>0.000000</td>\n",
                            "      <td>0.000285</td>\n",
                            "      <td>-0.000285</td>\n",
                            "    </tr>\n",
                            "    <tr>\n",
                            "      <th>1</th>\n",
                            "      <td>3</td>\n",
                            "      <td>-162</td>\n",
                            "      <td>-0.000003</td>\n",
                            "      <td>0.021032</td>\n",
                            "      <td>0.000595</td>\n",
                            "      <td>0.000284</td>\n",
                            "      <td>-0.000284</td>\n",
                            "    </tr>\n",
                            "    <tr>\n",
                            "      <th>2</th>\n",
                            "      <td>4</td>\n",
                            "      <td>-161</td>\n",
                            "      <td>-0.000003</td>\n",
                            "      <td>0.020030</td>\n",
                            "      <td>0.000496</td>\n",
                            "      <td>0.000257</td>\n",
                            "      <td>-0.000257</td>\n",
                            "    </tr>\n",
                            "    <tr>\n",
                            "      <th>3</th>\n",
                            "      <td>5</td>\n",
                            "      <td>-160</td>\n",
                            "      <td>-0.000003</td>\n",
                            "      <td>0.020330</td>\n",
                            "      <td>0.000595</td>\n",
                            "      <td>0.000281</td>\n",
                            "      <td>-0.000281</td>\n",
                            "    </tr>\n",
                            "    <tr>\n",
                            "      <th>4</th>\n",
                            "      <td>6</td>\n",
                            "      <td>-159</td>\n",
                            "      <td>-0.000003</td>\n",
                            "      <td>0.021632</td>\n",
                            "      <td>0.000496</td>\n",
                            "      <td>0.000270</td>\n",
                            "      <td>-0.000270</td>\n",
                            "    </tr>\n",
                            "    <tr>\n",
                            "      <th>...</th>\n",
                            "      <td>...</td>\n",
                            "      <td>...</td>\n",
                            "      <td>...</td>\n",
                            "      <td>...</td>\n",
                            "      <td>...</td>\n",
                            "      <td>...</td>\n",
                            "      <td>...</td>\n",
                            "    </tr>\n",
                            "    <tr>\n",
                            "      <th>131065</th>\n",
                            "      <td>131067</td>\n",
                            "      <td>130902</td>\n",
                            "      <td>0.002618</td>\n",
                            "      <td>0.020230</td>\n",
                            "      <td>0.000694</td>\n",
                            "      <td>0.000268</td>\n",
                            "      <td>-0.000268</td>\n",
                            "    </tr>\n",
                            "    <tr>\n",
                            "      <th>131066</th>\n",
                            "      <td>131068</td>\n",
                            "      <td>130903</td>\n",
                            "      <td>0.002618</td>\n",
                            "      <td>0.020931</td>\n",
                            "      <td>0.000496</td>\n",
                            "      <td>0.000254</td>\n",
                            "      <td>-0.000254</td>\n",
                            "    </tr>\n",
                            "    <tr>\n",
                            "      <th>131067</th>\n",
                            "      <td>131069</td>\n",
                            "      <td>130904</td>\n",
                            "      <td>0.002618</td>\n",
                            "      <td>0.021332</td>\n",
                            "      <td>0.000297</td>\n",
                            "      <td>0.000260</td>\n",
                            "      <td>-0.000260</td>\n",
                            "    </tr>\n",
                            "    <tr>\n",
                            "      <th>131068</th>\n",
                            "      <td>131070</td>\n",
                            "      <td>130905</td>\n",
                            "      <td>0.002618</td>\n",
                            "      <td>0.021833</td>\n",
                            "      <td>0.000595</td>\n",
                            "      <td>0.000264</td>\n",
                            "      <td>-0.000264</td>\n",
                            "    </tr>\n",
                            "    <tr>\n",
                            "      <th>131069</th>\n",
                            "      <td>131071</td>\n",
                            "      <td>130906</td>\n",
                            "      <td>0.002618</td>\n",
                            "      <td>0.022033</td>\n",
                            "      <td>0.000397</td>\n",
                            "      <td>0.000244</td>\n",
                            "      <td>-0.000244</td>\n",
                            "    </tr>\n",
                            "  </tbody>\n",
                            "</table>\n",
                            "<p>131070 rows × 7 columns</p>\n",
                            "</div>"
                        ]
                    },
                    "metadata": {},
                    "execution_count": 51
                }
            ],
            "metadata": {}
        },
        {
            "cell_type": "code",
            "execution_count": 52,
            "source": [
                "time_column = data.columns[2]\r\n",
                "ch1_column = data.columns[3]\r\n",
                "data_column = data.columns[-1]\r\n",
                "print(time_column,ch1_column,data_column)\r\n",
                "#print(np.average(data[ch1_column])*10)\r\n",
                "\r\n",
                "%matplotlib widget\r\n",
                "plt.plot(data[time_column],data[ch1_column])\r\n",
                "plt.plot(data[time_column],data[data_column], color='r')\r\n",
                "plt.show()\r\n"
            ],
            "outputs": [
                {
                    "output_type": "stream",
                    "name": "stdout",
                    "text": [
                        "T [s] ch1 [V] inverted [V]\n"
                    ]
                },
                {
                    "output_type": "display_data",
                    "data": {
                        "text/plain": [
                            "Canvas(toolbar=Toolbar(toolitems=[('Home', 'Reset original view', 'home', 'home'), ('Back', 'Back to previous …"
                        ],
                        "application/vnd.jupyter.widget-view+json": {
                            "version_major": 2,
                            "version_minor": 0,
                            "model_id": "d2d81a21d8584926b8d314d029172519"
                        }
                    },
                    "metadata": {}
                }
            ],
            "metadata": {}
        },
        {
            "cell_type": "code",
            "execution_count": 53,
            "source": [
                "tester = []\r\n",
                "for i in range(len(data[ch1_column])):\r\n",
                "    tester.append(data[ch1_column].to_numpy()[i]-data[ch1_column].to_numpy()[i-1])\r\n",
                "\r\n",
                "thershold =  (np.max(tester)-np.average(tester))/3.5\r\n",
                "print(thershold)\r\n",
                "\r\n",
                "%matplotlib widget\r\n",
                "plt.plot(data[time_column], tester)\r\n",
                "plt.axhline(thershold, color='r')\r\n",
                "#plt.plot(data[time_column],data[data_column], color='r')"
            ],
            "outputs": [
                {
                    "output_type": "stream",
                    "name": "stdout",
                    "text": [
                        "0.010701766857142858\n"
                    ]
                },
                {
                    "output_type": "display_data",
                    "data": {
                        "text/plain": [
                            "Canvas(toolbar=Toolbar(toolitems=[('Home', 'Reset original view', 'home', 'home'), ('Back', 'Back to previous …"
                        ],
                        "application/vnd.jupyter.widget-view+json": {
                            "version_major": 2,
                            "version_minor": 0,
                            "model_id": "027c6560192341b89a9423c171e55e82"
                        }
                    },
                    "metadata": {}
                },
                {
                    "output_type": "execute_result",
                    "data": {
                        "text/plain": [
                            "<matplotlib.lines.Line2D at 0x2461044ea60>"
                        ]
                    },
                    "metadata": {},
                    "execution_count": 53
                }
            ],
            "metadata": {}
        },
        {
            "cell_type": "code",
            "execution_count": 6,
            "source": [
                "def f(x,a,b):\r\n",
                "    return a*np.exp(-x/b)\r\n",
                "    "
            ],
            "outputs": [],
            "metadata": {}
        },
        {
            "cell_type": "code",
            "execution_count": 54,
            "source": [
                "points_candidates = np.argwhere(tester>thershold)\r\n",
                "points_candidates = np.append(points_candidates,[[(len(data[ch1_column])-1)]], axis=0)\r\n",
                "#points_candidates.append()\r\n",
                "\r\n",
                "i = 0\r\n",
                "points = []\r\n",
                "while i<(len(points_candidates)-1):\r\n",
                "    distance = points_candidates[i+1][0]-points_candidates[i][0]\r\n",
                "    if distance < 200:\r\n",
                "        if data[ch1_column][points_candidates[i][0]]>data[ch1_column][points_candidates[i+1][0]]:\r\n",
                "            points.append(points_candidates[i][0])\r\n",
                "        else:\r\n",
                "            points.append(points_candidates[i+1][0])\r\n",
                "        i = i + 1\r\n",
                "\r\n",
                "    else:\r\n",
                "        points.append(points_candidates[i][0])\r\n",
                "\r\n",
                "    i = i + 1\r\n",
                "\r\n",
                "points.append(len(data[ch1_column])-1)\r\n",
                "#print(points)\r\n",
                "#print(points_candidates)\r\n",
                "\r\n",
                "\r\n",
                "%matplotlib widget\r\n",
                "plt.plot(data[time_column],data[data_column])\r\n",
                "\r\n",
                "\r\n",
                "for i in range(len(points)):\r\n",
                "    plt.axvline(x= data[time_column][points[i]], color = 'r')\r\n",
                "\r\n",
                "\"\"\"\r\n",
                "\r\n",
                "for i in range(len(points_candidates)):\r\n",
                "    plt.axvline(x= data[time_column][points_candidates[i][0]], color = 'g')\r\n",
                "\r\n",
                "\"\"\"\r\n",
                "\r\n",
                "plt.show()\r\n",
                "\r\n",
                "\r\n"
            ],
            "outputs": [
                {
                    "output_type": "display_data",
                    "data": {
                        "text/plain": [
                            "Canvas(toolbar=Toolbar(toolitems=[('Home', 'Reset original view', 'home', 'home'), ('Back', 'Back to previous …"
                        ],
                        "application/vnd.jupyter.widget-view+json": {
                            "version_major": 2,
                            "version_minor": 0,
                            "model_id": "1cbafa236152409b9691015fc6caa4f2"
                        }
                    },
                    "metadata": {}
                }
            ],
            "metadata": {}
        },
        {
            "cell_type": "code",
            "execution_count": 55,
            "source": [
                "\r\n",
                "thaus = []\r\n",
                "\r\n",
                "#for i in [10]:\r\n",
                "\r\n",
                "for i in range(len(points)-1):\r\n",
                "\r\n",
                "    indexes = np.arange(points[i],points[i+1])[:-20]\r\n",
                "    val_between_imp = data[data_column].to_numpy()[indexes]\r\n",
                "    peak = np.argmax(val_between_imp)\r\n",
                "\r\n",
                "    times_fit = np.array(data[time_column ].to_numpy()[indexes][peak:] - data[time_column ].to_numpy()[indexes][peak:][0],dtype=np.float32)\r\n",
                "    val_fit = np.array((data[data_column].to_numpy()[indexes][peak:]-np.average(data[data_column].to_numpy()[indexes][peak:][-20:])),dtype=np.float32)\r\n",
                "    a_init = val_fit[0]\r\n",
                "    b_init = 0.00000014\r\n",
                "    #b_init = -times_fit[80]/np.log(val_fit[80]/a_init)\r\n",
                "\r\n",
                "    params, pcov = scp.curve_fit(f, times_fit, val_fit, [a_init,b_init])\r\n",
                "    err = np.sqrt(np.diag(pcov))\r\n",
                "\r\n",
                "    thaus.append(params[1])\r\n",
                "    #print(params[1])\r\n",
                "    \r\n",
                "    #\"\"\"\r\n",
                "    \"\"\"\r\n",
                "    %matplotlib widget\r\n",
                "    plt.plot(times_fit,val_fit)\r\n",
                "    plt.plot(times_fit, f(times_fit, params[0], params[1]), color = 'r')\r\n",
                "    \"\"\"\r\n",
                "    #\"\"\"\r\n",
                "    \r\n",
                "print(thaus)\r\n",
                "print(np.average(thaus),np.std(thaus))\r\n"
            ],
            "outputs": [
                {
                    "output_type": "stream",
                    "name": "stdout",
                    "text": [
                        "[1.1847562268843742e-07, 1.0521484099262636e-07, 1.1346075824847887e-07, 1.136553495543135e-07, 1.2363322577421e-07, 1.3249612455421193e-07, 1.6273956000518737e-07, 1.4924289089236446e-07, 1.3380770493838007e-07, 1.1541285496592428e-07, 1.242002361730842e-07, 1.1818895799721504e-07, 1.3465196492152588e-07, 1.5929002640491458e-07, 1.685591478368551e-07, 1.3532102318113035e-07, 1.363450748149595e-07, 1.809601176428315e-07, 1.409435200012185e-07, 1.8444777786618108e-07, 1.8712326495820216e-07, 1.5130323989777616e-07, 1.1914862357369606e-07, 1.3182707189930242e-07, 1.725054469601303e-07, 1.7492913249621895e-07, 1.945667612534219e-07, 1.9251926617158737e-07]\n",
                        "1.4553462809515665e-07 2.6910637686926914e-08\n"
                    ]
                }
            ],
            "metadata": {}
        },
        {
            "cell_type": "markdown",
            "source": [
                "nitrogen:\r\n",
                "2.3585663246765498e-06 6.909764575890499e-08\r\n",
                "air1:\r\n",
                "2.324143345682654e-06 7.554586521535033e-08\r\n",
                "air2:\r\n",
                "2.3452365742603783e-06 5.3840971863432014e-08\r\n",
                "crone1:\r\n",
                "1.2384908420188277e-06 8.084168262122479e-08\r\n",
                "crone2:\r\n",
                "5.165562047605518e-07 2.63762452029122e-08\r\n",
                "crone3:\r\n",
                "2.0042874543094457e-06 5.207545170862822e-08\r\n",
                "spark1:\r\n",
                "2.2626358380928828e-07 9.484269041802186e-08\r\n",
                "spark2:\r\n",
                "1.4553462809515665e-07 2.6910637686926914e-08\r\n",
                "\r\n",
                "\r\n"
            ],
            "metadata": {}
        },
        {
            "cell_type": "markdown",
            "source": [],
            "metadata": {}
        }
    ],
    "metadata": {
        "orig_nbformat": 4,
        "language_info": {
            "name": "python",
            "version": "3.9.6",
            "mimetype": "text/x-python",
            "codemirror_mode": {
                "name": "ipython",
                "version": 3
            },
            "pygments_lexer": "ipython3",
            "nbconvert_exporter": "python",
            "file_extension": ".py"
        },
        "kernelspec": {
            "name": "python3",
            "display_name": "Python 3.9.6 64-bit ('test': virtualenvwrapper)"
        },
        "interpreter": {
            "hash": "0688fa381e32863bb3d9b8356cad027464cc414515025b5359ecfade3f6b0d4f"
        }
    },
    "nbformat": 4,
    "nbformat_minor": 2
}