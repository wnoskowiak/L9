{
    "cells": [
        {
            "cell_type": "code",
            "execution_count": 34,
            "source": [
                "import openpyxl   \r\n",
                "import pandas as pd\r\n",
                "import numpy as np\r\n",
                "from pandas import read_excel\r\n",
                "import matplotlib.pyplot as plt\r\n",
                "import scipy.optimize as scp"
            ],
            "outputs": [],
            "metadata": {}
        },
        {
            "cell_type": "code",
            "execution_count": 87,
            "source": [
                "raw_data=pd.read_excel(\"air1.xlsx\", engine = 'openpyxl') \r\n",
                "data = pd.DataFrame(raw_data)\r\n",
                "data = data.drop([0,1]).reset_index(drop=True)\r\n",
                "data"
            ],
            "outputs": [
                {
                    "output_type": "execute_result",
                    "data": {
                        "text/plain": [
                            "        Unnamed: 0  Sample         T       ch1       ch2      mean  inverted\n",
                            "0                2    -329 -0.000007  0.000801  0.000297  0.000221 -0.000221\n",
                            "1                3    -328 -0.000007  0.000801  0.000000  0.000220 -0.000220\n",
                            "2                4    -327 -0.000007  0.000801  0.000099  0.000245 -0.000245\n",
                            "3                5    -326 -0.000007  0.000801  0.000198  0.000194 -0.000194\n",
                            "4                6    -325 -0.000006  0.000801  0.000397  0.000245 -0.000245\n",
                            "...            ...     ...       ...       ...       ...       ...       ...\n",
                            "131065      131067  130736  0.002615  0.000801  0.000099  0.000225 -0.000225\n",
                            "131066      131068  130737  0.002615  0.000601  0.000099  0.000222 -0.000222\n",
                            "131067      131069  130738  0.002615  0.001002  0.000595  0.000216 -0.000216\n",
                            "131068      131070  130739  0.002615  0.001002  0.000198  0.000217 -0.000217\n",
                            "131069      131071  130740  0.002615  0.000701  0.000397  0.000204 -0.000204\n",
                            "\n",
                            "[131070 rows x 7 columns]"
                        ],
                        "text/html": [
                            "<div>\n",
                            "<style scoped>\n",
                            "    .dataframe tbody tr th:only-of-type {\n",
                            "        vertical-align: middle;\n",
                            "    }\n",
                            "\n",
                            "    .dataframe tbody tr th {\n",
                            "        vertical-align: top;\n",
                            "    }\n",
                            "\n",
                            "    .dataframe thead th {\n",
                            "        text-align: right;\n",
                            "    }\n",
                            "</style>\n",
                            "<table border=\"1\" class=\"dataframe\">\n",
                            "  <thead>\n",
                            "    <tr style=\"text-align: right;\">\n",
                            "      <th></th>\n",
                            "      <th>Unnamed: 0</th>\n",
                            "      <th>Sample</th>\n",
                            "      <th>T</th>\n",
                            "      <th>ch1</th>\n",
                            "      <th>ch2</th>\n",
                            "      <th>mean</th>\n",
                            "      <th>inverted</th>\n",
                            "    </tr>\n",
                            "  </thead>\n",
                            "  <tbody>\n",
                            "    <tr>\n",
                            "      <th>0</th>\n",
                            "      <td>2</td>\n",
                            "      <td>-329</td>\n",
                            "      <td>-0.000007</td>\n",
                            "      <td>0.000801</td>\n",
                            "      <td>0.000297</td>\n",
                            "      <td>0.000221</td>\n",
                            "      <td>-0.000221</td>\n",
                            "    </tr>\n",
                            "    <tr>\n",
                            "      <th>1</th>\n",
                            "      <td>3</td>\n",
                            "      <td>-328</td>\n",
                            "      <td>-0.000007</td>\n",
                            "      <td>0.000801</td>\n",
                            "      <td>0.000000</td>\n",
                            "      <td>0.000220</td>\n",
                            "      <td>-0.000220</td>\n",
                            "    </tr>\n",
                            "    <tr>\n",
                            "      <th>2</th>\n",
                            "      <td>4</td>\n",
                            "      <td>-327</td>\n",
                            "      <td>-0.000007</td>\n",
                            "      <td>0.000801</td>\n",
                            "      <td>0.000099</td>\n",
                            "      <td>0.000245</td>\n",
                            "      <td>-0.000245</td>\n",
                            "    </tr>\n",
                            "    <tr>\n",
                            "      <th>3</th>\n",
                            "      <td>5</td>\n",
                            "      <td>-326</td>\n",
                            "      <td>-0.000007</td>\n",
                            "      <td>0.000801</td>\n",
                            "      <td>0.000198</td>\n",
                            "      <td>0.000194</td>\n",
                            "      <td>-0.000194</td>\n",
                            "    </tr>\n",
                            "    <tr>\n",
                            "      <th>4</th>\n",
                            "      <td>6</td>\n",
                            "      <td>-325</td>\n",
                            "      <td>-0.000006</td>\n",
                            "      <td>0.000801</td>\n",
                            "      <td>0.000397</td>\n",
                            "      <td>0.000245</td>\n",
                            "      <td>-0.000245</td>\n",
                            "    </tr>\n",
                            "    <tr>\n",
                            "      <th>...</th>\n",
                            "      <td>...</td>\n",
                            "      <td>...</td>\n",
                            "      <td>...</td>\n",
                            "      <td>...</td>\n",
                            "      <td>...</td>\n",
                            "      <td>...</td>\n",
                            "      <td>...</td>\n",
                            "    </tr>\n",
                            "    <tr>\n",
                            "      <th>131065</th>\n",
                            "      <td>131067</td>\n",
                            "      <td>130736</td>\n",
                            "      <td>0.002615</td>\n",
                            "      <td>0.000801</td>\n",
                            "      <td>0.000099</td>\n",
                            "      <td>0.000225</td>\n",
                            "      <td>-0.000225</td>\n",
                            "    </tr>\n",
                            "    <tr>\n",
                            "      <th>131066</th>\n",
                            "      <td>131068</td>\n",
                            "      <td>130737</td>\n",
                            "      <td>0.002615</td>\n",
                            "      <td>0.000601</td>\n",
                            "      <td>0.000099</td>\n",
                            "      <td>0.000222</td>\n",
                            "      <td>-0.000222</td>\n",
                            "    </tr>\n",
                            "    <tr>\n",
                            "      <th>131067</th>\n",
                            "      <td>131069</td>\n",
                            "      <td>130738</td>\n",
                            "      <td>0.002615</td>\n",
                            "      <td>0.001002</td>\n",
                            "      <td>0.000595</td>\n",
                            "      <td>0.000216</td>\n",
                            "      <td>-0.000216</td>\n",
                            "    </tr>\n",
                            "    <tr>\n",
                            "      <th>131068</th>\n",
                            "      <td>131070</td>\n",
                            "      <td>130739</td>\n",
                            "      <td>0.002615</td>\n",
                            "      <td>0.001002</td>\n",
                            "      <td>0.000198</td>\n",
                            "      <td>0.000217</td>\n",
                            "      <td>-0.000217</td>\n",
                            "    </tr>\n",
                            "    <tr>\n",
                            "      <th>131069</th>\n",
                            "      <td>131071</td>\n",
                            "      <td>130740</td>\n",
                            "      <td>0.002615</td>\n",
                            "      <td>0.000701</td>\n",
                            "      <td>0.000397</td>\n",
                            "      <td>0.000204</td>\n",
                            "      <td>-0.000204</td>\n",
                            "    </tr>\n",
                            "  </tbody>\n",
                            "</table>\n",
                            "<p>131070 rows × 7 columns</p>\n",
                            "</div>"
                        ]
                    },
                    "metadata": {},
                    "execution_count": 87
                }
            ],
            "metadata": {}
        },
        {
            "cell_type": "code",
            "execution_count": 88,
            "source": [
                "time_column = data.columns[2]\r\n",
                "ch1_column = data.columns[3]\r\n",
                "data_column = data.columns[-1]\r\n",
                "print(time_column,ch1_column,data_column)\r\n",
                "#print(np.average(data[ch1_column])*10)\r\n",
                "\r\n",
                "%matplotlib widget\r\n",
                "plt.plot(data[time_column],data[ch1_column])\r\n",
                "plt.plot(data[time_column],data[data_column], color='r')\r\n",
                "plt.show()\r\n"
            ],
            "outputs": [
                {
                    "output_type": "stream",
                    "name": "stdout",
                    "text": [
                        "T ch1 inverted\n"
                    ]
                },
                {
                    "output_type": "display_data",
                    "data": {
                        "text/plain": [
                            "Canvas(toolbar=Toolbar(toolitems=[('Home', 'Reset original view', 'home', 'home'), ('Back', 'Back to previous …"
                        ],
                        "application/vnd.jupyter.widget-view+json": {
                            "version_major": 2,
                            "version_minor": 0,
                            "model_id": "0eabbbc3d0b94b23a65a808a428f5241"
                        }
                    },
                    "metadata": {}
                }
            ],
            "metadata": {}
        },
        {
            "cell_type": "code",
            "execution_count": 89,
            "source": [
                "tester = []\r\n",
                "for i in range(len(data[ch1_column])):\r\n",
                "    tester.append(data[ch1_column].to_numpy()[i]-data[ch1_column].to_numpy()[i-1])\r\n",
                "\r\n",
                "thershold =  (np.max(tester)-np.average(tester))/3.5\r\n",
                "print(thershold)\r\n",
                "\r\n",
                "%matplotlib widget\r\n",
                "plt.plot(data[time_column], tester)\r\n",
                "plt.axhline(thershold, color='r')\r\n",
                "#plt.plot(data[time_column],data[data_column], color='r')"
            ],
            "outputs": [
                {
                    "output_type": "stream",
                    "name": "stdout",
                    "text": [
                        "0.004778596571428572\n"
                    ]
                },
                {
                    "output_type": "display_data",
                    "data": {
                        "text/plain": [
                            "Canvas(toolbar=Toolbar(toolitems=[('Home', 'Reset original view', 'home', 'home'), ('Back', 'Back to previous …"
                        ],
                        "application/vnd.jupyter.widget-view+json": {
                            "version_major": 2,
                            "version_minor": 0,
                            "model_id": "59b2bba87a0f4496adba4a6e11d279c9"
                        }
                    },
                    "metadata": {}
                },
                {
                    "output_type": "execute_result",
                    "data": {
                        "text/plain": [
                            "<matplotlib.lines.Line2D at 0x2399af66a90>"
                        ]
                    },
                    "metadata": {},
                    "execution_count": 89
                }
            ],
            "metadata": {}
        },
        {
            "cell_type": "code",
            "execution_count": 83,
            "source": [
                "def f(x,a,b):\r\n",
                "    return a*np.exp(-x/b)\r\n",
                "    "
            ],
            "outputs": [],
            "metadata": {}
        },
        {
            "cell_type": "code",
            "execution_count": 90,
            "source": [
                "points_candidates = np.argwhere(tester>thershold)\r\n",
                "points_candidates = np.append(points_candidates,[[(len(data[ch1_column])-1)]], axis=0)\r\n",
                "#points_candidates.append()\r\n",
                "\r\n",
                "i = 0\r\n",
                "points = []\r\n",
                "while i<(len(points_candidates)-1):\r\n",
                "    distance = points_candidates[i+1][0]-points_candidates[i][0]\r\n",
                "    if distance < 200:\r\n",
                "        if data[ch1_column][points_candidates[i][0]]>data[ch1_column][points_candidates[i+1][0]]:\r\n",
                "            points.append(points_candidates[i][0])\r\n",
                "        else:\r\n",
                "            points.append(points_candidates[i+1][0])\r\n",
                "        i = i + 1\r\n",
                "\r\n",
                "    else:\r\n",
                "        points.append(points_candidates[i][0])\r\n",
                "\r\n",
                "    i = i + 1\r\n",
                "\r\n",
                "points.append(len(data[ch1_column])-1)\r\n",
                "#print(points)\r\n",
                "#print(points_candidates)\r\n",
                "\r\n",
                "\r\n",
                "%matplotlib widget\r\n",
                "plt.plot(data[time_column],data[data_column])\r\n",
                "\r\n",
                "\r\n",
                "for i in range(len(points)):\r\n",
                "    plt.axvline(x= data[time_column][points[i]], color = 'r')\r\n",
                "\r\n",
                "\"\"\"\r\n",
                "\r\n",
                "for i in range(len(points_candidates)):\r\n",
                "    plt.axvline(x= data[time_column][points_candidates[i][0]], color = 'g')\r\n",
                "\r\n",
                "\"\"\"\r\n",
                "\r\n",
                "plt.show()\r\n",
                "\r\n",
                "\r\n"
            ],
            "outputs": [
                {
                    "output_type": "display_data",
                    "data": {
                        "text/plain": [
                            "Canvas(toolbar=Toolbar(toolitems=[('Home', 'Reset original view', 'home', 'home'), ('Back', 'Back to previous …"
                        ],
                        "application/vnd.jupyter.widget-view+json": {
                            "version_major": 2,
                            "version_minor": 0,
                            "model_id": "9bc5112838a4482b85c035e599431185"
                        }
                    },
                    "metadata": {}
                }
            ],
            "metadata": {}
        },
        {
            "cell_type": "code",
            "execution_count": 91,
            "source": [
                "\r\n",
                "thaus = []\r\n",
                "\r\n",
                "for i in range(len(points)-1):\r\n",
                "\r\n",
                "    indexes = np.arange(points[i],points[i+1])\r\n",
                "    val_between_imp = data[data_column].to_numpy()[indexes]\r\n",
                "    peak = np.argmax(val_between_imp)\r\n",
                "\r\n",
                "    times_fit = np.array(data[time_column ].to_numpy()[indexes][peak:] - data[time_column ].to_numpy()[indexes][peak:][0],dtype=np.float32)\r\n",
                "    val_fit = np.array((data[data_column].to_numpy()[indexes][peak:]-np.average(data[data_column].to_numpy()[indexes][peak:][-80:])),dtype=np.float32)\r\n",
                "    a_init = val_fit[0]\r\n",
                "    b_init = -1/(np.log(val_fit[80]/a_init)/times_fit[80])\r\n",
                "\r\n",
                "    params, pcov = scp.curve_fit(f, times_fit, val_fit, [a_init,b_init])\r\n",
                "    err = np.sqrt(np.diag(pcov))\r\n",
                "\r\n",
                "    thaus.append(params[1])\r\n",
                "    \r\n",
                "    \"\"\"\r\n",
                "    %matplotlib widget\r\n",
                "    plt.plot(times_fit,val_fit)\r\n",
                "    plt.plot(times_fit, f(times_fit, params[0], params[1]), color = 'r')\r\n",
                "    \"\"\"\r\n",
                "print(np.average(thaus),np.std(thaus))\r\n",
                "\r\n",
                "\r\n",
                "\r\n",
                "\r\n"
            ],
            "outputs": [
                {
                    "output_type": "stream",
                    "name": "stdout",
                    "text": [
                        "2.3222715949271765e-06 6.86183394638994e-08\n"
                    ]
                }
            ],
            "metadata": {}
        },
        {
            "cell_type": "code",
            "execution_count": null,
            "source": [
                "nitrogen:\r\n",
                "2.362955057402244e-06 5.691787963020979e-08\r\n",
                "air1:\r\n",
                "2.3222715949271765e-06 6.86183394638994e-08\r\n",
                "air2:\r\n",
                "2.2920622812734162e-06 8.528731250173426e-08\r\n",
                "crone1:\r\n",
                "\r\n",
                "\r\n",
                "\r\n"
            ],
            "outputs": [],
            "metadata": {}
        }
    ],
    "metadata": {
        "orig_nbformat": 4,
        "language_info": {
            "name": "python",
            "version": "3.9.6",
            "mimetype": "text/x-python",
            "codemirror_mode": {
                "name": "ipython",
                "version": 3
            },
            "pygments_lexer": "ipython3",
            "nbconvert_exporter": "python",
            "file_extension": ".py"
        },
        "kernelspec": {
            "name": "python3",
            "display_name": "Python 3.9.6 64-bit ('test': virtualenvwrapper)"
        },
        "interpreter": {
            "hash": "0688fa381e32863bb3d9b8356cad027464cc414515025b5359ecfade3f6b0d4f"
        }
    },
    "nbformat": 4,
    "nbformat_minor": 2
}